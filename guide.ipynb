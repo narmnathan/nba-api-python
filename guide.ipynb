{
 "cells": [
  {
   "cell_type": "markdown",
   "id": "0f9adf30-572e-4177-9bb3-79d8f0faf2e5",
   "metadata": {
    "pycharm": {
     "name": "#%% md\n"
    }
   },
   "source": [
    "# Loading gamelogs"
   ]
  },
  {
   "cell_type": "code",
   "execution_count": 1,
   "id": "830f63c8-62fa-46af-818b-1d6431fb99a6",
   "metadata": {
    "pycharm": {
     "name": "#%%\n"
    }
   },
   "outputs": [
    {
     "name": "stdout",
     "output_type": "stream",
     "text": [
      "Gamelogs successfully loaded for Jayson Tatum\n"
     ]
    }
   ],
   "source": [
    "from load import run\n",
    "run('Jayson Tatum BOS vs. LAC 24.5 REBS')\n",
    "# enter full name, player team, court, opposing team, fantasy value and type"
   ]
  },
  {
   "cell_type": "markdown",
   "source": [
    "# Accessing gamelogs\n"
   ],
   "metadata": {
    "collapsed": false,
    "pycharm": {
     "name": "#%% md\n"
    }
   }
  },
  {
   "cell_type": "code",
   "execution_count": 2,
   "outputs": [
    {
     "data": {
      "text/plain": "   SEASON_ID  Player_ID   Game_ID     GAME_DATE      MATCHUP WL  MIN  FGM  \\\n0      22022    1628369  22201206  APR 07, 2023  BOS vs. TOR  W   20    7   \n1      22022    1628369  22201181  APR 04, 2023    BOS @ PHI  L   38    7   \n2      22022    1628369  22201152  MAR 31, 2023  BOS vs. UTA  W   36   12   \n3      22022    1628369  22201146  MAR 30, 2023    BOS @ MIL  W   31   12   \n4      22022    1628369  22201130  MAR 28, 2023    BOS @ WAS  L   32   11   \n\n   FGA  FG_PCT  ...  DREB  REB  AST  STL  BLK  TOV  PF  PTS  PLUS_MINUS  \\\n0   12   0.583  ...     2    3    4    0    0    3   2   21          23   \n1   20   0.350  ...     5    6    6    3    0    2   2   19         -13   \n2   17   0.706  ...    10   11    3    3    0    0   4   39           7   \n3   18   0.667  ...     7    8    1    0    0    0   1   40          36   \n4   19   0.579  ...     9    9    5    0    1    3   4   28         -10   \n\n   VIDEO_AVAILABLE  \n0                1  \n1                1  \n2                1  \n3                1  \n4                1  \n\n[5 rows x 27 columns]",
      "text/html": "<div>\n<style scoped>\n    .dataframe tbody tr th:only-of-type {\n        vertical-align: middle;\n    }\n\n    .dataframe tbody tr th {\n        vertical-align: top;\n    }\n\n    .dataframe thead th {\n        text-align: right;\n    }\n</style>\n<table border=\"1\" class=\"dataframe\">\n  <thead>\n    <tr style=\"text-align: right;\">\n      <th></th>\n      <th>SEASON_ID</th>\n      <th>Player_ID</th>\n      <th>Game_ID</th>\n      <th>GAME_DATE</th>\n      <th>MATCHUP</th>\n      <th>WL</th>\n      <th>MIN</th>\n      <th>FGM</th>\n      <th>FGA</th>\n      <th>FG_PCT</th>\n      <th>...</th>\n      <th>DREB</th>\n      <th>REB</th>\n      <th>AST</th>\n      <th>STL</th>\n      <th>BLK</th>\n      <th>TOV</th>\n      <th>PF</th>\n      <th>PTS</th>\n      <th>PLUS_MINUS</th>\n      <th>VIDEO_AVAILABLE</th>\n    </tr>\n  </thead>\n  <tbody>\n    <tr>\n      <th>0</th>\n      <td>22022</td>\n      <td>1628369</td>\n      <td>22201206</td>\n      <td>APR 07, 2023</td>\n      <td>BOS vs. TOR</td>\n      <td>W</td>\n      <td>20</td>\n      <td>7</td>\n      <td>12</td>\n      <td>0.583</td>\n      <td>...</td>\n      <td>2</td>\n      <td>3</td>\n      <td>4</td>\n      <td>0</td>\n      <td>0</td>\n      <td>3</td>\n      <td>2</td>\n      <td>21</td>\n      <td>23</td>\n      <td>1</td>\n    </tr>\n    <tr>\n      <th>1</th>\n      <td>22022</td>\n      <td>1628369</td>\n      <td>22201181</td>\n      <td>APR 04, 2023</td>\n      <td>BOS @ PHI</td>\n      <td>L</td>\n      <td>38</td>\n      <td>7</td>\n      <td>20</td>\n      <td>0.350</td>\n      <td>...</td>\n      <td>5</td>\n      <td>6</td>\n      <td>6</td>\n      <td>3</td>\n      <td>0</td>\n      <td>2</td>\n      <td>2</td>\n      <td>19</td>\n      <td>-13</td>\n      <td>1</td>\n    </tr>\n    <tr>\n      <th>2</th>\n      <td>22022</td>\n      <td>1628369</td>\n      <td>22201152</td>\n      <td>MAR 31, 2023</td>\n      <td>BOS vs. UTA</td>\n      <td>W</td>\n      <td>36</td>\n      <td>12</td>\n      <td>17</td>\n      <td>0.706</td>\n      <td>...</td>\n      <td>10</td>\n      <td>11</td>\n      <td>3</td>\n      <td>3</td>\n      <td>0</td>\n      <td>0</td>\n      <td>4</td>\n      <td>39</td>\n      <td>7</td>\n      <td>1</td>\n    </tr>\n    <tr>\n      <th>3</th>\n      <td>22022</td>\n      <td>1628369</td>\n      <td>22201146</td>\n      <td>MAR 30, 2023</td>\n      <td>BOS @ MIL</td>\n      <td>W</td>\n      <td>31</td>\n      <td>12</td>\n      <td>18</td>\n      <td>0.667</td>\n      <td>...</td>\n      <td>7</td>\n      <td>8</td>\n      <td>1</td>\n      <td>0</td>\n      <td>0</td>\n      <td>0</td>\n      <td>1</td>\n      <td>40</td>\n      <td>36</td>\n      <td>1</td>\n    </tr>\n    <tr>\n      <th>4</th>\n      <td>22022</td>\n      <td>1628369</td>\n      <td>22201130</td>\n      <td>MAR 28, 2023</td>\n      <td>BOS @ WAS</td>\n      <td>L</td>\n      <td>32</td>\n      <td>11</td>\n      <td>19</td>\n      <td>0.579</td>\n      <td>...</td>\n      <td>9</td>\n      <td>9</td>\n      <td>5</td>\n      <td>0</td>\n      <td>1</td>\n      <td>3</td>\n      <td>4</td>\n      <td>28</td>\n      <td>-10</td>\n      <td>1</td>\n    </tr>\n  </tbody>\n</table>\n<p>5 rows × 27 columns</p>\n</div>"
     },
     "execution_count": 2,
     "metadata": {},
     "output_type": "execute_result"
    }
   ],
   "source": [
    "from manager import CSV\n",
    "player = CSV.gamelog['player']\n",
    "team = CSV.gamelog['team']\n",
    "opponent = CSV.gamelog['opp']\n",
    "\n",
    "player.head() # show player gamelogs"
   ],
   "metadata": {
    "collapsed": false,
    "pycharm": {
     "name": "#%%\n"
    }
   }
  },
  {
   "cell_type": "markdown",
   "id": "3f346bce-cf60-4d6a-aff1-fd455378a558",
   "metadata": {
    "pycharm": {
     "name": "#%% md\n"
    }
   },
   "source": [
    "# Filtering gamelogs\n",
    "Gamelogs can be filtered by:\n",
    "- Home/away\n",
    "- Opposing team\n",
    "- Last n games\n",
    "- Minimum/maximum minutes played\n",
    "- Games without a teammate playing "
   ]
  },
  {
   "cell_type": "code",
   "execution_count": 3,
   "id": "e6955ddf-5819-450b-a84d-efb8a7ca822b",
   "metadata": {
    "pycharm": {
     "name": "#%%\n"
    }
   },
   "outputs": [
    {
     "data": {
      "text/plain": "    SEASON_ID  Player_ID   Game_ID     GAME_DATE      MATCHUP WL  MIN  FGM  \\\n0       22022    1628369  22201206  APR 07, 2023  BOS vs. TOR  W   20    7   \n2       22022    1628369  22201152  MAR 31, 2023  BOS vs. UTA  W   36   12   \n5       22022    1628369  22201097  MAR 24, 2023  BOS vs. IND  W   32   13   \n12      22022    1628369  22200986  MAR 08, 2023  BOS vs. POR  W   31   11   \n13      22022    1628369  22200969  MAR 05, 2023  BOS vs. NYK  L   49   12   \n\n    FGA  FG_PCT  ...  DREB  REB  AST  STL  BLK  TOV  PF  PTS  PLUS_MINUS  \\\n0    12   0.583  ...     2    3    4    0    0    3   2   21          23   \n2    17   0.706  ...    10   11    3    3    0    0   4   39           7   \n5    24   0.542  ...     7    7    2    2    0    6   3   34          23   \n12   17   0.647  ...     6    7    2    1    0    3   0   30          21   \n13   30   0.400  ...     9   11    6    0    0    2   2   40           4   \n\n    VIDEO_AVAILABLE  \n0                 1  \n2                 1  \n5                 1  \n12                1  \n13                1  \n\n[5 rows x 27 columns]",
      "text/html": "<div>\n<style scoped>\n    .dataframe tbody tr th:only-of-type {\n        vertical-align: middle;\n    }\n\n    .dataframe tbody tr th {\n        vertical-align: top;\n    }\n\n    .dataframe thead th {\n        text-align: right;\n    }\n</style>\n<table border=\"1\" class=\"dataframe\">\n  <thead>\n    <tr style=\"text-align: right;\">\n      <th></th>\n      <th>SEASON_ID</th>\n      <th>Player_ID</th>\n      <th>Game_ID</th>\n      <th>GAME_DATE</th>\n      <th>MATCHUP</th>\n      <th>WL</th>\n      <th>MIN</th>\n      <th>FGM</th>\n      <th>FGA</th>\n      <th>FG_PCT</th>\n      <th>...</th>\n      <th>DREB</th>\n      <th>REB</th>\n      <th>AST</th>\n      <th>STL</th>\n      <th>BLK</th>\n      <th>TOV</th>\n      <th>PF</th>\n      <th>PTS</th>\n      <th>PLUS_MINUS</th>\n      <th>VIDEO_AVAILABLE</th>\n    </tr>\n  </thead>\n  <tbody>\n    <tr>\n      <th>0</th>\n      <td>22022</td>\n      <td>1628369</td>\n      <td>22201206</td>\n      <td>APR 07, 2023</td>\n      <td>BOS vs. TOR</td>\n      <td>W</td>\n      <td>20</td>\n      <td>7</td>\n      <td>12</td>\n      <td>0.583</td>\n      <td>...</td>\n      <td>2</td>\n      <td>3</td>\n      <td>4</td>\n      <td>0</td>\n      <td>0</td>\n      <td>3</td>\n      <td>2</td>\n      <td>21</td>\n      <td>23</td>\n      <td>1</td>\n    </tr>\n    <tr>\n      <th>2</th>\n      <td>22022</td>\n      <td>1628369</td>\n      <td>22201152</td>\n      <td>MAR 31, 2023</td>\n      <td>BOS vs. UTA</td>\n      <td>W</td>\n      <td>36</td>\n      <td>12</td>\n      <td>17</td>\n      <td>0.706</td>\n      <td>...</td>\n      <td>10</td>\n      <td>11</td>\n      <td>3</td>\n      <td>3</td>\n      <td>0</td>\n      <td>0</td>\n      <td>4</td>\n      <td>39</td>\n      <td>7</td>\n      <td>1</td>\n    </tr>\n    <tr>\n      <th>5</th>\n      <td>22022</td>\n      <td>1628369</td>\n      <td>22201097</td>\n      <td>MAR 24, 2023</td>\n      <td>BOS vs. IND</td>\n      <td>W</td>\n      <td>32</td>\n      <td>13</td>\n      <td>24</td>\n      <td>0.542</td>\n      <td>...</td>\n      <td>7</td>\n      <td>7</td>\n      <td>2</td>\n      <td>2</td>\n      <td>0</td>\n      <td>6</td>\n      <td>3</td>\n      <td>34</td>\n      <td>23</td>\n      <td>1</td>\n    </tr>\n    <tr>\n      <th>12</th>\n      <td>22022</td>\n      <td>1628369</td>\n      <td>22200986</td>\n      <td>MAR 08, 2023</td>\n      <td>BOS vs. POR</td>\n      <td>W</td>\n      <td>31</td>\n      <td>11</td>\n      <td>17</td>\n      <td>0.647</td>\n      <td>...</td>\n      <td>6</td>\n      <td>7</td>\n      <td>2</td>\n      <td>1</td>\n      <td>0</td>\n      <td>3</td>\n      <td>0</td>\n      <td>30</td>\n      <td>21</td>\n      <td>1</td>\n    </tr>\n    <tr>\n      <th>13</th>\n      <td>22022</td>\n      <td>1628369</td>\n      <td>22200969</td>\n      <td>MAR 05, 2023</td>\n      <td>BOS vs. NYK</td>\n      <td>L</td>\n      <td>49</td>\n      <td>12</td>\n      <td>30</td>\n      <td>0.400</td>\n      <td>...</td>\n      <td>9</td>\n      <td>11</td>\n      <td>6</td>\n      <td>0</td>\n      <td>0</td>\n      <td>2</td>\n      <td>2</td>\n      <td>40</td>\n      <td>4</td>\n      <td>1</td>\n    </tr>\n  </tbody>\n</table>\n<p>5 rows × 27 columns</p>\n</div>"
     },
     "execution_count": 3,
     "metadata": {},
     "output_type": "execute_result"
    }
   ],
   "source": [
    "import filters\n",
    "from manager import Filtered\n",
    "# filtering for games played at home\n",
    "filters.court('HOME')\n",
    "last = Filtered.player['court']\n",
    "\n",
    "last.head()"
   ]
  },
  {
   "cell_type": "markdown",
   "source": [
    "# Retrieving statistics\n",
    "Available statistics:\n",
    "1. PTS, REB, AST, BLK, TOV, PF\n",
    "2. REB, OREB, DREB, OREB_RATIO, DREB_RATIO\n",
    "3. FGM, FGA, FG_PCT, FG3M, FG3A, FG3_PCT, FG3_RATIO, FTM, FTA, FT_PCT\n",
    "4. AST%, AST/TO, eFG%, TSA, TOV%, TS%, USG%\n",
    "5. OREB%, DREB%, BLK%, STL%\n"
   ],
   "metadata": {
    "collapsed": false,
    "pycharm": {
     "name": "#%% md\n"
    }
   }
  },
  {
   "cell_type": "code",
   "execution_count": 4,
   "outputs": [
    {
     "name": "stdout",
     "output_type": "stream",
     "text": [
      "              \n",
      "PTS  30.067568\n",
      "REB   8.770270\n",
      "AST   4.621622\n",
      "BLK   0.689189\n",
      "TOV   2.878378\n",
      "PF    2.162162\n"
     ]
    }
   ],
   "source": [
    "import stats\n",
    "# showing PTS, REB, AST, BLK, TOV, and PF for games played at home\n",
    "stats.change('COURT')\n",
    "stats.basic()"
   ],
   "metadata": {
    "collapsed": false,
    "pycharm": {
     "name": "#%%\n"
    }
   }
  }
 ],
 "metadata": {
  "kernelspec": {
   "display_name": "Python 3 (ipykernel)",
   "language": "python",
   "name": "python3"
  },
  "language_info": {
   "codemirror_mode": {
    "name": "ipython",
    "version": 3
   },
   "file_extension": ".py",
   "mimetype": "text/x-python",
   "name": "python",
   "nbconvert_exporter": "python",
   "pygments_lexer": "ipython3",
   "version": "3.9.13"
  }
 },
 "nbformat": 4,
 "nbformat_minor": 5
}