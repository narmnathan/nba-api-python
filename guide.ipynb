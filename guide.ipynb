{
 "cells": [
  {
   "cell_type": "markdown",
   "id": "0f9adf30-572e-4177-9bb3-79d8f0faf2e5",
   "metadata": {
    "pycharm": {
     "name": "#%% md\n"
    }
   },
   "source": [
    "# Loading gamelogs"
   ]
  },
  {
   "cell_type": "code",
   "execution_count": 14,
   "id": "830f63c8-62fa-46af-818b-1d6431fb99a6",
   "metadata": {
    "pycharm": {
     "name": "#%%\n"
    }
   },
   "outputs": [
    {
     "name": "stdout",
     "output_type": "stream",
     "text": [
      "Gamelogs successfully loaded for Jalen Brunson\n"
     ]
    }
   ],
   "source": [
    "from load import run\n",
    "run('Jalen Brunson NYK @ CLE 22.5 PTS')\n",
    "# enter full name, player team, court, opposing team, fantasy value and type"
   ]
  },
  {
   "cell_type": "markdown",
   "source": [
    "# Accessing gamelogs\n"
   ],
   "metadata": {
    "collapsed": false,
    "pycharm": {
     "name": "#%% md\n"
    }
   }
  },
  {
   "cell_type": "code",
   "execution_count": 15,
   "outputs": [
    {
     "name": "stdout",
     "output_type": "stream",
     "text": [
      "    SEASON_ID  Player_ID   Game_ID     GAME_DATE      MATCHUP WL  MIN  FGM  \\\n",
      "0       22022    1628973  22201168  APR 02, 2023  NYK vs. WAS  W   39   11   \n",
      "1       22022    1628973  22201154  MAR 31, 2023    NYK @ CLE  W   38   18   \n",
      "2       22022    1628973  22201138  MAR 29, 2023  NYK vs. MIA  W   30    5   \n",
      "3       22022    1628973  22201084  MAR 22, 2023    NYK @ MIA  L   37   10   \n",
      "4       22022    1628973  22201073  MAR 20, 2023  NYK vs. MIN  L   37    9   \n",
      "..        ...        ...       ...           ...          ... ..  ...  ...   \n",
      "63      22022    1628973  22200075  OCT 28, 2022    NYK @ MIL  L   33    3   \n",
      "64      22022    1628973  22200058  OCT 26, 2022  NYK vs. CHA  W   41   10   \n",
      "65      22022    1628973  22200046  OCT 24, 2022  NYK vs. ORL  W   33    8   \n",
      "66      22022    1628973  22200023  OCT 21, 2022  NYK vs. DET  W   28    6   \n",
      "67      22022    1628973  22200009  OCT 19, 2022    NYK @ MEM  L   36    7   \n",
      "\n",
      "    FGA  FG_PCT  ...  DREB  REB  AST  STL  BLK  TOV  PF  PTS  PLUS_MINUS  \\\n",
      "0    20   0.550  ...     3    3    8    3    0    5   2   27          19   \n",
      "1    32   0.563  ...     2    4    9    0    0    2   1   48           3   \n",
      "2    11   0.455  ...     2    2    3    0    0    3   2   12           9   \n",
      "3    16   0.625  ...     5    6    6    1    0    5   3   25          -4   \n",
      "4    18   0.500  ...     2    2   10    2    0    2   4   23          -8   \n",
      "..  ...     ...  ...   ...  ...  ...  ...  ...  ...  ..  ...         ...   \n",
      "63   10   0.300  ...     3    3    2    1    0    3   3   13         -19   \n",
      "64   15   0.667  ...     7    7   13    1    1    3   2   27           7   \n",
      "65   16   0.500  ...     3    3    6    2    0    3   5   21          17   \n",
      "66   11   0.545  ...     2    2    6    1    0    0   2   17           3   \n",
      "67   18   0.389  ...     4    6    9    0    0    0   3   15           3   \n",
      "\n",
      "    VIDEO_AVAILABLE  \n",
      "0                 1  \n",
      "1                 1  \n",
      "2                 1  \n",
      "3                 1  \n",
      "4                 1  \n",
      "..              ...  \n",
      "63                1  \n",
      "64                1  \n",
      "65                1  \n",
      "66                1  \n",
      "67                1  \n",
      "\n",
      "[68 rows x 27 columns]\n"
     ]
    }
   ],
   "source": [
    "from manager import CSV\n",
    "player = CSV.gamelog['player']\n",
    "team = CSV.gamelog['team']\n",
    "opponent = CSV.gamelog['opp']\n",
    "\n",
    "print(player) # show player gamelogs"
   ],
   "metadata": {
    "collapsed": false,
    "pycharm": {
     "name": "#%%\n"
    }
   }
  },
  {
   "cell_type": "markdown",
   "id": "3f346bce-cf60-4d6a-aff1-fd455378a558",
   "metadata": {
    "pycharm": {
     "name": "#%% md\n"
    }
   },
   "source": [
    "# Filtering gamelogs\n",
    "Gamelogs can be filtered by:\n",
    "- Home/away\n",
    "- Opposing team\n",
    "- Last n games\n",
    "- Minimum/maximum minutes played\n",
    "- Games without a teammate playing "
   ]
  },
  {
   "cell_type": "code",
   "execution_count": 16,
   "id": "e6955ddf-5819-450b-a84d-efb8a7ca822b",
   "metadata": {
    "pycharm": {
     "name": "#%%\n"
    }
   },
   "outputs": [
    {
     "name": "stdout",
     "output_type": "stream",
     "text": [
      "   SEASON_ID  Player_ID   Game_ID     GAME_DATE      MATCHUP WL  MIN  FGM  \\\n",
      "0      22022    1628973  22201168  APR 02, 2023  NYK vs. WAS  W   39   11   \n",
      "1      22022    1628973  22201154  MAR 31, 2023    NYK @ CLE  W   38   18   \n",
      "2      22022    1628973  22201138  MAR 29, 2023  NYK vs. MIA  W   30    5   \n",
      "3      22022    1628973  22201084  MAR 22, 2023    NYK @ MIA  L   37   10   \n",
      "4      22022    1628973  22201073  MAR 20, 2023  NYK vs. MIN  L   37    9   \n",
      "5      22022    1628973  22201055  MAR 18, 2023  NYK vs. DEN  W   32    9   \n",
      "6      22022    1628973  22200997  MAR 09, 2023    NYK @ SAC  L   19    6   \n",
      "7      22022    1628973  22200949  MAR 03, 2023    NYK @ MIA  W   35    9   \n",
      "8      22022    1628973  22200937  MAR 01, 2023  NYK vs. BKN  W   36   15   \n",
      "9      22022    1628973  22200921  FEB 27, 2023  NYK vs. BOS  W   40    4   \n",
      "\n",
      "   FGA  FG_PCT  ...  DREB  REB  AST  STL  BLK  TOV  PF  PTS  PLUS_MINUS  \\\n",
      "0   20   0.550  ...     3    3    8    3    0    5   2   27          19   \n",
      "1   32   0.563  ...     2    4    9    0    0    2   1   48           3   \n",
      "2   11   0.455  ...     2    2    3    0    0    3   2   12           9   \n",
      "3   16   0.625  ...     5    6    6    1    0    5   3   25          -4   \n",
      "4   18   0.500  ...     2    2   10    2    0    2   4   23          -8   \n",
      "5   20   0.450  ...     2    2    5    0    0    1   2   24          -5   \n",
      "6   12   0.500  ...     2    2    2    0    0    1   0   19         -12   \n",
      "7   14   0.643  ...     2    2    8    2    0    1   2   25          -1   \n",
      "8   18   0.833  ...     5    5    6    0    0    3   2   39          23   \n",
      "9   12   0.333  ...     4    4    3    1    0    1   0   17          21   \n",
      "\n",
      "   VIDEO_AVAILABLE  \n",
      "0                1  \n",
      "1                1  \n",
      "2                1  \n",
      "3                1  \n",
      "4                1  \n",
      "5                1  \n",
      "6                1  \n",
      "7                1  \n",
      "8                1  \n",
      "9                1  \n",
      "\n",
      "[10 rows x 27 columns]\n"
     ]
    }
   ],
   "source": [
    "import filters\n",
    "from manager import Filtered\n",
    "# filtering for last 10 games\n",
    "filters.last(10)\n",
    "last = Filtered.player['last']\n",
    "print(last)"
   ]
  },
  {
   "cell_type": "markdown",
   "source": [
    "# Retrieving stats\n",
    "**Work in progress!**\n"
   ],
   "metadata": {
    "collapsed": false,
    "pycharm": {
     "name": "#%% md\n"
    }
   }
  },
  {
   "cell_type": "code",
   "execution_count": 17,
   "outputs": [
    {
     "ename": "SyntaxError",
     "evalue": "invalid syntax (stats.py, line 93)",
     "output_type": "error",
     "traceback": [
      "Traceback \u001B[0;36m(most recent call last)\u001B[0m:\n",
      "  File \u001B[1;32m\"/Users/narmnathan/opt/anaconda3/lib/python3.9/site-packages/IPython/core/interactiveshell.py\"\u001B[0m, line \u001B[1;32m3457\u001B[0m, in \u001B[1;35mrun_code\u001B[0m\n    exec(code_obj, self.user_global_ns, self.user_ns)\n",
      "\u001B[0;36m  File \u001B[0;32m\"/var/folders/4k/8z6dtvcx33s9svtc0q9krc480000gn/T/ipykernel_19666/500996352.py\"\u001B[0;36m, line \u001B[0;32m1\u001B[0;36m, in \u001B[0;35m<module>\u001B[0;36m\u001B[0m\n\u001B[0;31m    import stats\u001B[0m\n",
      "\u001B[0;36m  File \u001B[0;32m\"/Users/narmnathan/Desktop/sinix-model/stats.py\"\u001B[0;36m, line \u001B[0;32m93\u001B[0m\n\u001B[0;31m    match param:\u001B[0m\n\u001B[0m          ^\u001B[0m\n\u001B[0;31mSyntaxError\u001B[0m\u001B[0;31m:\u001B[0m invalid syntax\n"
     ]
    }
   ],
   "source": [
    "import stats\n",
    "# looking for basic stats over the last 10 games\n",
    "# stats.change(\"COURT\")\n",
    "# stats.basic()"
   ],
   "metadata": {
    "collapsed": false,
    "pycharm": {
     "name": "#%%\n"
    }
   }
  },
  {
   "cell_type": "code",
   "execution_count": null,
   "outputs": [],
   "source": [],
   "metadata": {
    "collapsed": false,
    "pycharm": {
     "name": "#%%\n"
    }
   }
  }
 ],
 "metadata": {
  "kernelspec": {
   "display_name": "Python 3 (ipykernel)",
   "language": "python",
   "name": "python3"
  },
  "language_info": {
   "codemirror_mode": {
    "name": "ipython",
    "version": 3
   },
   "file_extension": ".py",
   "mimetype": "text/x-python",
   "name": "python",
   "nbconvert_exporter": "python",
   "pygments_lexer": "ipython3",
   "version": "3.9.13"
  }
 },
 "nbformat": 4,
 "nbformat_minor": 5
}