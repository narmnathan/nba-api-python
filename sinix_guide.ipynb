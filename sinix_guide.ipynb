{
 "cells": [
  {
   "cell_type": "markdown",
   "id": "05926358-94bd-453a-9fc6-e73af40bae49",
   "metadata": {
    "tags": []
   },
   "source": [
    "# Installation"
   ]
  },
  {
   "cell_type": "markdown",
   "execution_count": null,
   "id": "e52dc724-c83f-41d8-a893-559515973438",
   "metadata": {},
   "outputs": [],
   "source": [
    "# Loading scraper"
   ]
  },
  {
   "cell_type": "markdown",
   "id": "3ea8ed74-0d5f-4e16-9e5f-02e78ae768e2",
   "metadata": {},
   "source": [
    "**Fork repo to user's GitHub and clone to:**\n",
    "\n",
    "*Mac:*\n",
    "~/Desktop/sinix-model\n",
    "*Windows*\n",
    "C:\\Desktop\\sinix-model"
   ]
  },
  {
   "cell_type": "markdown",
   "id": "96ef606f-66ca-4e9b-92ae-f8ec752a1e95",
   "metadata": {},
   "source": [
    "**Locate and run load.py**"
   ]
  },
  {
   "cell_type": "code",
   "execution_count": 1,
   "id": "c48adfc2-67b7-4fe7-99a8-7f1697bd2f9c",
   "metadata": {
    "tags": []
   },
   "outputs": [],
   "source": [
    "def load(player): # can be renamed to user choice\n",
    "    with open(player + '.csv', 'w+', newline='') as file:\n",
    "        writer = csv.writer(file)\n",
    "        writer.writerow(\n",
    "            ['DATE', 'OPP', 'WL', 'MIN', 'PTS', 'FGM', 'FGA', 'FGP', 'TPM', 'TPA', 'TPP', 'REB', 'AST', 'STL', 'BLK',\n",
    "             'TOV'])"
   ]
  },
  {
   "cell_type": "markdown",
   "id": "bbd61de1-0d09-41cf-8e1f-52e0cee1f2b6",
   "metadata": {},
   "source": [
    "'player'.csv should be created in working directory."
   ]
  },
  {
   "cell_type": "markdown",
   "id": "026cafd1-3287-4b3a-93ac-9bb535272df0",
   "metadata": {},
   "source": [
    "**Run main.py**"
   ]
  },
  {
   "cell_type": "markdown",
   "id": "b6ed441f-70e9-4d2c-9005-efd1a9d96100",
   "metadata": {},
   "source": [
    "Visit basketball-reference.com and obtain the data-ID of the date associated with the desired statline. Function prop() requires arguments URL, data-ID, and player name. \n",
    "![\"Example of where to find Data ID\"](https://i.imgur.com/h069j58.png)\n",
    "In the event the csv filename is different from player name, adjust function accordingly."
   ]
  },
  {
   "cell_type": "code",
   "execution_count": null,
   "id": "a5e1e6d8-676d-40ec-8574-fe2c7d2460d9",
   "metadata": {},
   "outputs": [],
   "source": [
    "props('https://www.basketball-reference.com/players/j/jokicni01/gamelog/2023', 'pgl_basic.568', 'jokic')"
   ]
  },
  {
   "cell_type": "markdown",
   "id": "ee1bd1eb-de11-4a59-bf25-6a27b8d3e954",
   "metadata": {},
   "source": [
    "As of writing (02/16/23), props() will append the csv with the statline from the date provided. Users can load as many games as desired with corresponding data-IDs. Reference curry.csv in GitHub for an example of a 5 game output."
   ]
  },
  {
   "cell_type": "code",
   "execution_count": 3,
   "id": "7fdeb7db-310f-4c3d-bf85-6e705f219de0",
   "metadata": {
    "jupyter": {
     "source_hidden": true
    },
    "tags": [
     "hide-input"
    ]
   },
   "outputs": [
    {
     "data": {
      "text/html": [
       "<div>\n",
       "<style scoped>\n",
       "    .dataframe tbody tr th:only-of-type {\n",
       "        vertical-align: middle;\n",
       "    }\n",
       "\n",
       "    .dataframe tbody tr th {\n",
       "        vertical-align: top;\n",
       "    }\n",
       "\n",
       "    .dataframe thead th {\n",
       "        text-align: right;\n",
       "    }\n",
       "</style>\n",
       "<table border=\"1\" class=\"dataframe\">\n",
       "  <thead>\n",
       "    <tr style=\"text-align: right;\">\n",
       "      <th></th>\n",
       "      <th>DATE</th>\n",
       "      <th>OPP</th>\n",
       "      <th>WL</th>\n",
       "      <th>MIN</th>\n",
       "      <th>PTS</th>\n",
       "      <th>FGM</th>\n",
       "      <th>FGA</th>\n",
       "      <th>FGP</th>\n",
       "      <th>TPM</th>\n",
       "      <th>TPA</th>\n",
       "      <th>TPP</th>\n",
       "      <th>REB</th>\n",
       "      <th>AST</th>\n",
       "      <th>STL</th>\n",
       "      <th>BLK</th>\n",
       "      <th>TOV</th>\n",
       "    </tr>\n",
       "  </thead>\n",
       "  <tbody>\n",
       "    <tr>\n",
       "      <th>0</th>\n",
       "      <td>2023-02-04</td>\n",
       "      <td>DAL</td>\n",
       "      <td>W (+6)</td>\n",
       "      <td>25:33</td>\n",
       "      <td>21</td>\n",
       "      <td>7</td>\n",
       "      <td>11</td>\n",
       "      <td>0.636</td>\n",
       "      <td>2</td>\n",
       "      <td>6</td>\n",
       "      <td>0.333</td>\n",
       "      <td>6</td>\n",
       "      <td>7</td>\n",
       "      <td>0</td>\n",
       "      <td>0</td>\n",
       "      <td>0</td>\n",
       "    </tr>\n",
       "    <tr>\n",
       "      <th>1</th>\n",
       "      <td>2023-02-02</td>\n",
       "      <td>DEN</td>\n",
       "      <td>L (-17)</td>\n",
       "      <td>33:11</td>\n",
       "      <td>28</td>\n",
       "      <td>10</td>\n",
       "      <td>17</td>\n",
       "      <td>0.588</td>\n",
       "      <td>5</td>\n",
       "      <td>10</td>\n",
       "      <td>0.500</td>\n",
       "      <td>5</td>\n",
       "      <td>5</td>\n",
       "      <td>0</td>\n",
       "      <td>0</td>\n",
       "      <td>6</td>\n",
       "    </tr>\n",
       "    <tr>\n",
       "      <th>2</th>\n",
       "      <td>2023-02-01</td>\n",
       "      <td>MIN</td>\n",
       "      <td>L (-5)</td>\n",
       "      <td>42:22</td>\n",
       "      <td>29</td>\n",
       "      <td>8</td>\n",
       "      <td>21</td>\n",
       "      <td>0.381</td>\n",
       "      <td>5</td>\n",
       "      <td>12</td>\n",
       "      <td>0.417</td>\n",
       "      <td>10</td>\n",
       "      <td>3</td>\n",
       "      <td>1</td>\n",
       "      <td>1</td>\n",
       "      <td>4</td>\n",
       "    </tr>\n",
       "    <tr>\n",
       "      <th>3</th>\n",
       "      <td>2023-01-30</td>\n",
       "      <td>OKC</td>\n",
       "      <td>W (+8)</td>\n",
       "      <td>36:36</td>\n",
       "      <td>38</td>\n",
       "      <td>12</td>\n",
       "      <td>20</td>\n",
       "      <td>0.600</td>\n",
       "      <td>8</td>\n",
       "      <td>14</td>\n",
       "      <td>0.571</td>\n",
       "      <td>8</td>\n",
       "      <td>12</td>\n",
       "      <td>0</td>\n",
       "      <td>1</td>\n",
       "      <td>4</td>\n",
       "    </tr>\n",
       "    <tr>\n",
       "      <th>4</th>\n",
       "      <td>2023-01-27</td>\n",
       "      <td>TOR</td>\n",
       "      <td>W (+12)</td>\n",
       "      <td>38:47</td>\n",
       "      <td>35</td>\n",
       "      <td>13</td>\n",
       "      <td>21</td>\n",
       "      <td>0.619</td>\n",
       "      <td>4</td>\n",
       "      <td>8</td>\n",
       "      <td>0.500</td>\n",
       "      <td>7</td>\n",
       "      <td>11</td>\n",
       "      <td>2</td>\n",
       "      <td>0</td>\n",
       "      <td>3</td>\n",
       "    </tr>\n",
       "  </tbody>\n",
       "</table>\n",
       "</div>"
      ],
      "text/plain": [
       "         DATE  OPP       WL    MIN  PTS  FGM  FGA    FGP  TPM  TPA    TPP  \\\n",
       "0  2023-02-04  DAL   W (+6)  25:33   21    7   11  0.636    2    6  0.333   \n",
       "1  2023-02-02  DEN  L (-17)  33:11   28   10   17  0.588    5   10  0.500   \n",
       "2  2023-02-01  MIN   L (-5)  42:22   29    8   21  0.381    5   12  0.417   \n",
       "3  2023-01-30  OKC   W (+8)  36:36   38   12   20  0.600    8   14  0.571   \n",
       "4  2023-01-27  TOR  W (+12)  38:47   35   13   21  0.619    4    8  0.500   \n",
       "\n",
       "   REB  AST  STL  BLK  TOV  \n",
       "0    6    7    0    0    0  \n",
       "1    5    5    0    0    6  \n",
       "2   10    3    1    1    4  \n",
       "3    8   12    0    1    4  \n",
       "4    7   11    2    0    3  "
      ]
     },
     "execution_count": 3,
     "metadata": {},
     "output_type": "execute_result"
    }
   ],
   "source": [
    "import pandas as pd\n",
    "\n",
    "df = pd.read_csv(\"curry.csv\", sep=\",\")\n",
    "df"
   ]
  },
  {
   "cell_type": "markdown",
   "execution_count": null,
   "id": "f42f252c-8766-4e4f-8160-1627e7e85aac",
   "metadata": {},
   "outputs": [],
   "source": [
    "# Loading model"
   ]
  },
  {
   "cell_type": "markdown",
   "id": "1d150765-ca08-4cf6-92cc-e4c12a5bac60",
   "metadata": {},
   "source": [
    "Update the analysis function in analysis.R with the desired file and player name and run to retrieve averages for points, rebounds, assists, field goal percentage and three-point field goal percentage."
   ]
  },
  {
   "cell_type": "code",
   "execution_count": null,
   "id": "f0327e1a-02a4-49dc-99d0-662bf18bdcf6",
   "metadata": {},
   "outputs": [],
   "source": [
    "anaylsis <- function(player_csv, name) {\n",
    "    setwd(\"~/Desktop/sinix-model\")\n",
    "    player <- read.csv(player_csv)\n",
    "    pts <- mean(player$PTS)\n",
    "    rebs <- mean(player$REB)\n",
    "    ast <- mean(player$AST)\n",
    "    fgp <- mean(player$FGP)\n",
    "    tpp <- mean(player$TPP)\n",
    "    player_analysis <- data.frame(NAME = name,\n",
    "                         PTS = c(pts),\n",
    "                         REB = c(rebs),\n",
    "                         AST = c(ast),\n",
    "                         FGP = c(fgp),\n",
    "                         TPP = c(tpp))\n",
    "    \n",
    "\n",
    "  print(player_analysis)\n",
    "}   \n",
    "anaylsis(\"curry.csv\", \"Stephen Curry\")"
   ]
  },
  {
   "cell_type": "markdown",
   "id": "d744dcf7-0e75-41b3-beb4-50a54b0ad70f",
   "metadata": {},
   "source": [
    "New CSV file should be loaded into working directory with averages based on inputted CSV data."
   ]
  },
  {
   "cell_type": "code",
   "execution_count": 2,
   "id": "6b44fc4c-022d-4729-acc1-cd5c0f7a3321",
   "metadata": {
    "jupyter": {
     "source_hidden": true
    },
    "tags": [
     "hide-input"
    ]
   },
   "outputs": [
    {
     "data": {
      "text/html": [
       "<div>\n",
       "<style scoped>\n",
       "    .dataframe tbody tr th:only-of-type {\n",
       "        vertical-align: middle;\n",
       "    }\n",
       "\n",
       "    .dataframe tbody tr th {\n",
       "        vertical-align: top;\n",
       "    }\n",
       "\n",
       "    .dataframe thead th {\n",
       "        text-align: right;\n",
       "    }\n",
       "</style>\n",
       "<table border=\"1\" class=\"dataframe\">\n",
       "  <thead>\n",
       "    <tr style=\"text-align: right;\">\n",
       "      <th></th>\n",
       "      <th>NAME</th>\n",
       "      <th>PTS</th>\n",
       "      <th>REB</th>\n",
       "      <th>AST</th>\n",
       "      <th>FGP</th>\n",
       "      <th>TPP</th>\n",
       "    </tr>\n",
       "  </thead>\n",
       "  <tbody>\n",
       "    <tr>\n",
       "      <th>0</th>\n",
       "      <td>Stephen Curry</td>\n",
       "      <td>30.2</td>\n",
       "      <td>7.2</td>\n",
       "      <td>7.6</td>\n",
       "      <td>0.5648</td>\n",
       "      <td>0.4642</td>\n",
       "    </tr>\n",
       "  </tbody>\n",
       "</table>\n",
       "</div>"
      ],
      "text/plain": [
       "            NAME   PTS  REB  AST     FGP     TPP\n",
       "0  Stephen Curry  30.2  7.2  7.6  0.5648  0.4642"
      ]
     },
     "execution_count": 2,
     "metadata": {},
     "output_type": "execute_result"
    }
   ],
   "source": [
    "import pandas as pd\n",
    "\n",
    "df = pd.read_csv(\"curry_analysis.csv\", sep=\",\")\n",
    "df"
   ]
  }
 ],
 "metadata": {
  "kernelspec": {
   "display_name": "Python 3 (ipykernel)",
   "language": "python",
   "name": "python3"
  },
  "language_info": {
   "codemirror_mode": {
    "name": "ipython",
    "version": 3
   },
   "file_extension": ".py",
   "mimetype": "text/x-python",
   "name": "python",
   "nbconvert_exporter": "python",
   "pygments_lexer": "ipython3",
   "version": "3.9.13"
  }
 },
 "nbformat": 4,
 "nbformat_minor": 5
}
